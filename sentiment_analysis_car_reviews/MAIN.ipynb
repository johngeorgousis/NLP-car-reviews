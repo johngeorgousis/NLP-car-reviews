{
 "cells": [
  {
   "cell_type": "markdown",
   "id": "a1b6fcea-e955-4f5f-bfc5-3fb3ba4a43c3",
   "metadata": {},
   "source": [
    "https://towardsai.net/p/nlp/natural-language-processing-nlp-with-python-tutorial-for-beginners-1f54e610a1a0"
   ]
  },
  {
   "cell_type": "code",
   "execution_count": 1,
   "id": "fcded58f-4164-469c-b9c2-14a0bb3d4d5e",
   "metadata": {},
   "outputs": [],
   "source": [
    "import numpy as np\n",
    "import pandas as pd\n",
    "import matplotlib.pyplot as plt\n",
    "import seaborn as sns\n",
    "import tensorflow as tf\n",
    "from IPython.display import display\n",
    "\n",
    "# NLP\n",
    "import nltk\n"
   ]
  },
  {
   "cell_type": "markdown",
   "id": "ca81daae-bf51-4dc9-95ad-0074e183f9f4",
   "metadata": {},
   "source": [
    "### 🔴 1. Exploration\n",
    "- Import and shuffle dataset\n",
    "- Change labels Neg: 0, Pos: 1\n",
    "- Print examples in each class\n",
    "- Train Test Split"
   ]
  },
  {
   "cell_type": "code",
   "execution_count": 2,
   "id": "ae710a14-47d6-4740-a947-c8055e3fe46b",
   "metadata": {},
   "outputs": [
    {
     "data": {
      "text/html": [
       "<div>\n",
       "<style scoped>\n",
       "    .dataframe tbody tr th:only-of-type {\n",
       "        vertical-align: middle;\n",
       "    }\n",
       "\n",
       "    .dataframe tbody tr th {\n",
       "        vertical-align: top;\n",
       "    }\n",
       "\n",
       "    .dataframe thead th {\n",
       "        text-align: right;\n",
       "    }\n",
       "</style>\n",
       "<table border=\"1\" class=\"dataframe\">\n",
       "  <thead>\n",
       "    <tr style=\"text-align: right;\">\n",
       "      <th></th>\n",
       "      <th>Sentiment</th>\n",
       "      <th>Review</th>\n",
       "    </tr>\n",
       "  </thead>\n",
       "  <tbody>\n",
       "    <tr>\n",
       "      <th>309</th>\n",
       "      <td>0</td>\n",
       "      <td>That 2001 Ford Explorer you may be considerin...</td>\n",
       "    </tr>\n",
       "    <tr>\n",
       "      <th>741</th>\n",
       "      <td>1</td>\n",
       "      <td>Get an old Tempo and stick to your beat   Yes...</td>\n",
       "    </tr>\n",
       "    <tr>\n",
       "      <th>265</th>\n",
       "      <td>0</td>\n",
       "      <td>My wife and I lease a 1997 FORD RANGER XLT  S...</td>\n",
       "    </tr>\n",
       "    <tr>\n",
       "      <th>823</th>\n",
       "      <td>1</td>\n",
       "      <td>I wanted a Ford Mustang Convertible for years...</td>\n",
       "    </tr>\n",
       "    <tr>\n",
       "      <th>778</th>\n",
       "      <td>1</td>\n",
       "      <td>We traded in our Ford Explorer on an 1998 Edd...</td>\n",
       "    </tr>\n",
       "  </tbody>\n",
       "</table>\n",
       "</div>"
      ],
      "text/plain": [
       "     Sentiment                                             Review\n",
       "309          0   That 2001 Ford Explorer you may be considerin...\n",
       "741          1   Get an old Tempo and stick to your beat   Yes...\n",
       "265          0   My wife and I lease a 1997 FORD RANGER XLT  S...\n",
       "823          1   I wanted a Ford Mustang Convertible for years...\n",
       "778          1   We traded in our Ford Explorer on an 1998 Edd..."
      ]
     },
     "metadata": {},
     "output_type": "display_data"
    },
    {
     "name": "stdout",
     "output_type": "stream",
     "text": [
      "Class Balance: \n"
     ]
    },
    {
     "data": {
      "text/plain": [
       "0    691\n",
       "1    691\n",
       "Name: Sentiment, dtype: int64"
      ]
     },
     "metadata": {},
     "output_type": "display_data"
    },
    {
     "name": "stdout",
     "output_type": "stream",
     "text": [
      "\n",
      "Total rows: 1382\n",
      "Train rows: 1105\n",
      "Test rows: 277\n"
     ]
    }
   ],
   "source": [
    "# Import, shuffle, numeric labels\n",
    "df = pd.read_csv('car_reviews (1).csv')\n",
    "df = df.sample(frac=1, random_state=42)\n",
    "df['Sentiment'] = df.Sentiment.map({'Neg': 0, 'Pos': 1})\n",
    "display(df.head())\n",
    "\n",
    "# Class balance\n",
    "print('Class Balance: ')\n",
    "display(df.Sentiment.value_counts())\n",
    "\n",
    "# train test split\n",
    "from sklearn.model_selection import train_test_split\n",
    "X_train, X_test, y_train, y_test = train_test_split(df['Review'], df['Sentiment'], train_size=0.8, random_state=1)\n",
    "\n",
    "print(f'\\nTotal rows: {df.shape[0]}')\n",
    "print(f'Train rows: {X_train.shape[0]}')\n",
    "print(f'Test rows: {X_test.shape[0]}')"
   ]
  },
  {
   "cell_type": "markdown",
   "id": "bb27c7d8-45f4-4e60-95c2-3f86d809ea3e",
   "metadata": {},
   "source": [
    "### 🔴 2. Preprocessing (Bag of Words)\n",
    "\n",
    "- Transform and fit training data\n",
    "- Transform testing data\n",
    "\n",
    "**Notes on CountVectorizer** \n",
    "- Implemented with stemming. Stemming turns similar words e.g. studying, study, studied into a single word: 'studi'\n",
    "\n",
    "- Converts tokenized words to lower case with parameter `lowercase = True`. 'He' and 'he' are not treated differently. \n",
    "\n",
    "- Ignores all punctuation using parameter `token_pattern` which has a default regular expression which selects tokens of 2 or more alphanumeric characters.\n",
    "\n",
    "- Ignores all stop English stop words with parameter `stop_words='english'` (stop words are the most commonly used words e.g. 'am, 'and', 'the'). \n",
    "This is extremely helpful as stop words can skew our calculations when we are trying to find certain key words that are indicative of sentiment."
   ]
  },
  {
   "cell_type": "code",
   "execution_count": 4,
   "id": "9ae20bdb-9344-42d3-ba3e-6d2f53343acb",
   "metadata": {},
   "outputs": [
    {
     "name": "stdout",
     "output_type": "stream",
     "text": [
      "Example of the first 5 rows for visualisation: \n"
     ]
    },
    {
     "data": {
      "text/html": [
       "<div>\n",
       "<style scoped>\n",
       "    .dataframe tbody tr th:only-of-type {\n",
       "        vertical-align: middle;\n",
       "    }\n",
       "\n",
       "    .dataframe tbody tr th {\n",
       "        vertical-align: top;\n",
       "    }\n",
       "\n",
       "    .dataframe thead th {\n",
       "        text-align: right;\n",
       "    }\n",
       "</style>\n",
       "<table border=\"1\" class=\"dataframe\">\n",
       "  <thead>\n",
       "    <tr style=\"text-align: right;\">\n",
       "      <th></th>\n",
       "      <th>00</th>\n",
       "      <th>01</th>\n",
       "      <th>10</th>\n",
       "      <th>101k</th>\n",
       "      <th>11</th>\n",
       "      <th>112</th>\n",
       "      <th>120</th>\n",
       "      <th>15</th>\n",
       "      <th>1500</th>\n",
       "      <th>18</th>\n",
       "      <th>...</th>\n",
       "      <th>writer</th>\n",
       "      <th>writing</th>\n",
       "      <th>year</th>\n",
       "      <th>years</th>\n",
       "      <th>yo</th>\n",
       "      <th>yuk</th>\n",
       "      <th>yyvonne</th>\n",
       "      <th>zetec</th>\n",
       "      <th>zone</th>\n",
       "      <th>zx2</th>\n",
       "    </tr>\n",
       "  </thead>\n",
       "  <tbody>\n",
       "    <tr>\n",
       "      <th>0</th>\n",
       "      <td>0</td>\n",
       "      <td>0</td>\n",
       "      <td>0</td>\n",
       "      <td>0</td>\n",
       "      <td>0</td>\n",
       "      <td>0</td>\n",
       "      <td>0</td>\n",
       "      <td>0</td>\n",
       "      <td>0</td>\n",
       "      <td>0</td>\n",
       "      <td>...</td>\n",
       "      <td>0</td>\n",
       "      <td>0</td>\n",
       "      <td>0</td>\n",
       "      <td>1</td>\n",
       "      <td>0</td>\n",
       "      <td>0</td>\n",
       "      <td>0</td>\n",
       "      <td>1</td>\n",
       "      <td>0</td>\n",
       "      <td>1</td>\n",
       "    </tr>\n",
       "    <tr>\n",
       "      <th>1</th>\n",
       "      <td>0</td>\n",
       "      <td>0</td>\n",
       "      <td>0</td>\n",
       "      <td>0</td>\n",
       "      <td>0</td>\n",
       "      <td>0</td>\n",
       "      <td>0</td>\n",
       "      <td>1</td>\n",
       "      <td>0</td>\n",
       "      <td>0</td>\n",
       "      <td>...</td>\n",
       "      <td>0</td>\n",
       "      <td>0</td>\n",
       "      <td>0</td>\n",
       "      <td>1</td>\n",
       "      <td>0</td>\n",
       "      <td>0</td>\n",
       "      <td>0</td>\n",
       "      <td>0</td>\n",
       "      <td>0</td>\n",
       "      <td>0</td>\n",
       "    </tr>\n",
       "    <tr>\n",
       "      <th>2</th>\n",
       "      <td>0</td>\n",
       "      <td>0</td>\n",
       "      <td>0</td>\n",
       "      <td>0</td>\n",
       "      <td>0</td>\n",
       "      <td>0</td>\n",
       "      <td>0</td>\n",
       "      <td>0</td>\n",
       "      <td>0</td>\n",
       "      <td>1</td>\n",
       "      <td>...</td>\n",
       "      <td>0</td>\n",
       "      <td>0</td>\n",
       "      <td>0</td>\n",
       "      <td>0</td>\n",
       "      <td>2</td>\n",
       "      <td>1</td>\n",
       "      <td>0</td>\n",
       "      <td>0</td>\n",
       "      <td>0</td>\n",
       "      <td>0</td>\n",
       "    </tr>\n",
       "    <tr>\n",
       "      <th>3</th>\n",
       "      <td>3</td>\n",
       "      <td>1</td>\n",
       "      <td>1</td>\n",
       "      <td>0</td>\n",
       "      <td>0</td>\n",
       "      <td>1</td>\n",
       "      <td>1</td>\n",
       "      <td>1</td>\n",
       "      <td>0</td>\n",
       "      <td>0</td>\n",
       "      <td>...</td>\n",
       "      <td>1</td>\n",
       "      <td>1</td>\n",
       "      <td>2</td>\n",
       "      <td>4</td>\n",
       "      <td>0</td>\n",
       "      <td>0</td>\n",
       "      <td>1</td>\n",
       "      <td>0</td>\n",
       "      <td>1</td>\n",
       "      <td>0</td>\n",
       "    </tr>\n",
       "    <tr>\n",
       "      <th>4</th>\n",
       "      <td>0</td>\n",
       "      <td>0</td>\n",
       "      <td>0</td>\n",
       "      <td>1</td>\n",
       "      <td>1</td>\n",
       "      <td>0</td>\n",
       "      <td>0</td>\n",
       "      <td>0</td>\n",
       "      <td>1</td>\n",
       "      <td>0</td>\n",
       "      <td>...</td>\n",
       "      <td>0</td>\n",
       "      <td>0</td>\n",
       "      <td>0</td>\n",
       "      <td>2</td>\n",
       "      <td>0</td>\n",
       "      <td>0</td>\n",
       "      <td>0</td>\n",
       "      <td>0</td>\n",
       "      <td>0</td>\n",
       "      <td>0</td>\n",
       "    </tr>\n",
       "  </tbody>\n",
       "</table>\n",
       "<p>5 rows × 1008 columns</p>\n",
       "</div>"
      ],
      "text/plain": [
       "   00  01  10  101k  11  112  120  15  1500  18  ...  writer  writing  year  \\\n",
       "0   0   0   0     0   0    0    0   0     0   0  ...       0        0     0   \n",
       "1   0   0   0     0   0    0    0   1     0   0  ...       0        0     0   \n",
       "2   0   0   0     0   0    0    0   0     0   1  ...       0        0     0   \n",
       "3   3   1   1     0   0    1    1   1     0   0  ...       1        1     2   \n",
       "4   0   0   0     1   1    0    0   0     1   0  ...       0        0     0   \n",
       "\n",
       "   years  yo  yuk  yyvonne  zetec  zone  zx2  \n",
       "0      1   0    0        0      1     0    1  \n",
       "1      1   0    0        0      0     0    0  \n",
       "2      0   2    1        0      0     0    0  \n",
       "3      4   0    0        1      0     1    0  \n",
       "4      2   0    0        0      0     0    0  \n",
       "\n",
       "[5 rows x 1008 columns]"
      ]
     },
     "metadata": {},
     "output_type": "display_data"
    },
    {
     "name": "stderr",
     "output_type": "stream",
     "text": [
      "C:\\Users\\johng\\anaconda3\\lib\\site-packages\\sklearn\\feature_extraction\\text.py:388: UserWarning: Your stop_words may be inconsistent with your preprocessing. Tokenizing the stop words generated tokens ['abov', 'afterward', 'alon', 'alreadi', 'alway', 'ani', 'anoth', 'anyon', 'anyth', 'anywher', 'becam', 'becaus', 'becom', 'befor', 'besid', 'cri', 'describ', 'dure', 'els', 'elsewher', 'empti', 'everi', 'everyon', 'everyth', 'everywher', 'fifti', 'formerli', 'forti', 'ha', 'henc', 'hereaft', 'herebi', 'hi', 'howev', 'hundr', 'inde', 'latterli', 'mani', 'meanwhil', 'moreov', 'mostli', 'nobodi', 'noon', 'noth', 'nowher', 'onc', 'onli', 'otherwis', 'ourselv', 'perhap', 'pleas', 'seriou', 'sever', 'sinc', 'sincer', 'sixti', 'someon', 'someth', 'sometim', 'somewher', 'themselv', 'thenc', 'thereaft', 'therebi', 'therefor', 'thi', 'thu', 'togeth', 'twelv', 'twenti', 'veri', 'wa', 'whatev', 'whenc', 'whenev', 'wherea', 'whereaft', 'wherebi', 'wherev', 'whi', 'yourselv'] not in stop_words.\n",
      "  warnings.warn('Your stop_words may be inconsistent with '\n"
     ]
    }
   ],
   "source": [
    "from sklearn.feature_extraction.text import CountVectorizer\n",
    "from textblob import TextBlob\n",
    "\n",
    "# (Optional) Visualisation example\n",
    "print('Example of the first 5 rows for visualisation: ')\n",
    "count_vector = CountVectorizer(lowercase=True, stop_words='english')\n",
    "count_vector.fit(X_train[0:5])\n",
    "frequency_matrix = pd.DataFrame(count_vector.transform(X_train[0:5]).toarray(), columns = count_vector.get_feature_names())\n",
    "display(frequency_matrix)\n",
    "\n",
    "# Stemming function from: https://jonathansoma.com/lede/algorithms-2017/classes/more-text-analysis/counting-and-stemming/\n",
    "# Stemming turns similar words e.g. studying, study, studied into a single word: 'studi'\n",
    "def textblob_tokenizer(str_input):\n",
    "    blob = TextBlob(str_input.lower())\n",
    "    tokens = blob.words\n",
    "    words = [token.stem() for token in tokens]\n",
    "    return words\n",
    "\n",
    "# Instantiate the CountVectorizer method (for tokenization)\n",
    "count_vector = CountVectorizer(lowercase=True, stop_words='english', tokenizer=textblob_tokenizer)\n",
    "\n",
    "# Transform and fit training data and return matrix\n",
    "X_train = count_vector.fit_transform(X_train)\n",
    "\n",
    "# Transform testing data and return the matrix. Note we are not fitting the testing data into the CountVectorizer()\n",
    "X_test = count_vector.transform(X_test)"
   ]
  },
  {
   "cell_type": "markdown",
   "id": "49eddda9-fd02-4e99-8195-3e25d451be36",
   "metadata": {},
   "source": [
    "### 🔴 3. Training and Testing"
   ]
  },
  {
   "cell_type": "code",
   "execution_count": 5,
   "id": "06e030eb-8ef1-49f9-ba78-f6ef3852a5e4",
   "metadata": {},
   "outputs": [
    {
     "data": {
      "text/plain": [
       "MultinomialNB()"
      ]
     },
     "execution_count": 5,
     "metadata": {},
     "output_type": "execute_result"
    }
   ],
   "source": [
    "from sklearn.naive_bayes import MultinomialNB\n",
    "\n",
    "# Instantiate and fit Naive Bayes\n",
    "naive_bayes = MultinomialNB()\n",
    "naive_bayes.fit(X_train, y_train)"
   ]
  },
  {
   "cell_type": "code",
   "execution_count": 6,
   "id": "4f398476-c5b7-4f06-84bc-ba2d6a408da3",
   "metadata": {},
   "outputs": [
    {
     "name": "stdout",
     "output_type": "stream",
     "text": [
      "Accuracy score:  0.7689530685920578\n",
      "Precision score:  0.7482517482517482\n",
      "Recall score:  0.7925925925925926\n",
      "F1 score:  0.7697841726618705\n"
     ]
    }
   ],
   "source": [
    "\n",
    "# Evaluate Naive Bayes\n",
    "predictions = naive_bayes.predict(X_test)\n",
    "print('Accuracy score: ', format(accuracy_score(y_test, predictions)))\n",
    "print('Precision score: ', format(precision_score(y_test, predictions)))\n",
    "print('Recall score: ', format(recall_score(y_test, predictions)))\n",
    "print('F1 score: ', format(f1_score(y_test, predictions)))"
   ]
  },
  {
   "cell_type": "code",
   "execution_count": 7,
   "id": "8944cf7d-7cf5-4cc9-9b7d-7d37678b812d",
   "metadata": {
    "tags": []
   },
   "outputs": [],
   "source": [
    "from sklearn.metrics import accuracy_score, precision_score, recall_score, f1_score\n",
    "\n",
    "def remove_text_inside_brackets(text, brackets=\"()[]\"):\n",
    "    count = [0] * (len(brackets) // 2) # count open/close brackets\n",
    "    saved_chars = []\n",
    "    for character in text:\n",
    "        for i, b in enumerate(brackets):\n",
    "            if character == b: # found bracket\n",
    "                kind, is_close = divmod(i, 2)\n",
    "                count[kind] += (-1)**is_close # `+1`: open, `-1`: close\n",
    "                if count[kind] < 0: # unbalanced bracket\n",
    "                    count[kind] = 0  # keep it\n",
    "                else:  # found bracket to remove\n",
    "                    break\n",
    "        else: # character is not a [balanced] bracket\n",
    "            if not any(count): # outside brackets\n",
    "                saved_chars.append(character)\n",
    "    return ''.join(saved_chars)\n",
    "\n",
    "def cmx_sklearn(models, test_examples, test_labels, dim=4):\n",
    "    \n",
    "    '''\n",
    "    Plots Confusion Matrix for sklearn list of models\n",
    "    \n",
    "    '''\n",
    "    cmxs = []\n",
    "    \n",
    "    for model in models:\n",
    "            \n",
    "            preds = model.predict(test_examples)\n",
    "            labels = test_labels\n",
    "\n",
    "            cmx_non_normal = tf.math.confusion_matrix(labels, preds).numpy() # Create Confusion Matrix\n",
    "            cmx0 = cmx_non_normal[0] / cmx_non_normal[0].sum()\n",
    "            cmx1 = cmx_non_normal[1] / cmx_non_normal[1].sum()\n",
    "            cmx = np.stack((cmx0, cmx1), axis=0)\n",
    "            cmxs.append(cmx)\n",
    "\n",
    "    plt.figure(figsize=(25,20))\n",
    "    for n in range(len(cmxs)):\n",
    "        # Plot confusion matrix\n",
    "        ax = plt.subplot(dim, dim, n+1)\n",
    "        sns.heatmap(cmxs[n], cmap=['skyblue', 'deepskyblue', 'dodgerblue', 'blue',  'darkblue'])\n",
    "\n",
    "        # xylabels and title\n",
    "        plt.title(remove_text_inside_brackets(str(models[n])))\n",
    "        plt.xlabel('PREDICTIONS')\n",
    "        plt.ylabel('LABELS')\n",
    "\n",
    "        # Label ticks\n",
    "        ax.set_xticklabels(['Background', 'Signal'])\n",
    "        ax.set_yticklabels(['Background', 'Signal'])\n",
    "        # Align ticks\n",
    "        plt.setp(ax.get_xticklabels(), rotation=0, ha=\"center\",\n",
    "                 rotation_mode=\"anchor\")\n",
    "        plt.setp(ax.get_yticklabels(), rotation=90, ha=\"center\",\n",
    "                 rotation_mode=\"anchor\")\n",
    "\n",
    "        # Text Annotations for Blocks in CMX\n",
    "        for i in range(2):\n",
    "            for j in range(2):\n",
    "\n",
    "                value = int(np.round(100*cmxs[n][i, j], 0))\n",
    "\n",
    "                text = ax.text(j+0.5, \n",
    "                               i+0.5, \n",
    "                               value,\n",
    "                               ha=\"center\", \n",
    "                               va=\"center\", \n",
    "                               color=\"orangered\", \n",
    "                               fontsize = 20)\n",
    "        plt.axis(\"off\")\n",
    "    plt.show()      \n",
    "    print(cmxs)"
   ]
  },
  {
   "cell_type": "code",
   "execution_count": 8,
   "id": "d90792cc-3ead-4454-bdbc-5b0e1bd6630f",
   "metadata": {},
   "outputs": [
    {
     "data": {
      "image/png": "[encoded data removed]",
      "text/plain": [
       "<Figure size 1800x1440 with 2 Axes>"
      ]
     },
     "metadata": {
      "needs_background": "light"
     },
     "output_type": "display_data"
    },
    {
     "name": "stdout",
     "output_type": "stream",
     "text": [
      "[array([[0.74647887, 0.25352113],\n",
      "       [0.20740741, 0.79259259]])]\n"
     ]
    }
   ],
   "source": [
    "cmx_sklearn([naive_bayes], X_test, y_test)"
   ]
  }
 ],
 "metadata": {
  "kernelspec": {
   "display_name": "Python 3",
   "language": "python",
   "name": "python3"
  },
  "language_info": {
   "codemirror_mode": {
    "name": "ipython",
    "version": 3
   },
   "file_extension": ".py",
   "mimetype": "text/x-python",
   "name": "python",
   "nbconvert_exporter": "python",
   "pygments_lexer": "ipython3",
   "version": "3.8.8"
  }
 },
 "nbformat": 4,
 "nbformat_minor": 5
}
